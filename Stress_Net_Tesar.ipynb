{
  "nbformat": 4,
  "nbformat_minor": 0,
  "metadata": {
    "colab": {
      "name": "Stress-Net-Tesar.ipynb",
      "provenance": [],
      "collapsed_sections": []
    },
    "kernelspec": {
      "name": "python3",
      "display_name": "Python 3"
    },
    "accelerator": "GPU"
  },
  "cells": [
    {
      "cell_type": "markdown",
      "metadata": {
        "id": "zZr8ReFcNBEi"
      },
      "source": [
        "##Hyperparameters for the model:"
      ]
    },
    {
      "cell_type": "code",
      "metadata": {
        "colab": {
          "base_uri": "https://localhost:8080/"
        },
        "id": "CTlg8GYqplLc",
        "outputId": "656a463f-6101-4d33-c94f-9e8fe319c656"
      },
      "source": [
        "epoch_num = 500 #Number of epochs\n",
        "learning_rate = 0.0005\n",
        "hidden_feat_num = 20\n",
        "batch_size = 1\n",
        "lang_list = range(40,60) #eventually make it to 124...\n",
        "token_per_type = 1\n",
        "\n",
        "#Dictionary that maps from feature values in the SR to segments:\n",
        "feats2symbol_sr = {\n",
        "                      \"1,1,1\":\"1\",\n",
        "                      \"1,1,-1\":\"2\",\n",
        "                      \"1,-1,-1\":\"0\",\n",
        "                      \"-1,-1,-1\":\"E\" \n",
        "                  }\n",
        "\n",
        "#Mount the user's google drive:\n",
        "from google.colab import drive\n",
        "drive.mount('/content/gdrive', force_remount=True)"
      ],
      "execution_count": null,
      "outputs": [
        {
          "output_type": "stream",
          "text": [
            "Mounted at /content/gdrive\n"
          ],
          "name": "stdout"
        }
      ]
    },
    {
      "cell_type": "markdown",
      "metadata": {
        "id": "4kHGQQcmM9nZ"
      },
      "source": [
        "##Install and import the necessary packages:"
      ]
    },
    {
      "cell_type": "code",
      "metadata": {
        "colab": {
          "base_uri": "https://localhost:8080/"
        },
        "id": "yJFXBk8wVRwQ",
        "outputId": "f4abded3-377e-42a6-fe5a-e8eb9093e92d"
      },
      "source": [
        "#CD into our google drive so we can use the custom Seq2Seq package\n",
        "%cd gdrive/My Drive\n",
        "import Seq2Seq\n",
        "\n",
        "#Import everything else:\n",
        "import numpy as np\n",
        "from re import sub\n",
        "from tensorflow.keras import backend\n",
        "from random import choice, shuffle\n",
        "from itertools import product\n",
        "from matplotlib.pyplot import plot\n",
        "from IPython.display import clear_output\n"
      ],
      "execution_count": null,
      "outputs": [
        {
          "output_type": "stream",
          "text": [
            "/content/gdrive/My Drive\n"
          ],
          "name": "stdout"
        }
      ]
    },
    {
      "cell_type": "markdown",
      "metadata": {
        "id": "RiyA_Je6NIdU"
      },
      "source": [
        "##Functions for processing the training data"
      ]
    },
    {
      "cell_type": "code",
      "metadata": {
        "id": "gWYjgS_MqcFX"
      },
      "source": [
        "def get_strings(input_fn, copies=1):\n",
        "  input_file = open(\"/content/gdrive/My Drive/NN_Stress/Input_Files/\"+input_fn)\n",
        "  input_file.readline()\n",
        "  UR_strings = []\n",
        "  SR_strings = []\n",
        "  syll_lengths = []\n",
        "  for line in input_file.readlines():\n",
        "    columns = line.split(\",\")\n",
        "    if len(columns) == 1:\n",
        "      raw_ur = line.rstrip() \n",
        "    if len(columns) == 3:\n",
        "      raw_sr = columns[1]\n",
        "      raw_p = columns[2]\n",
        "      ur, sr, p = sub(\"\\\"|\\[|\\]\", \"\", raw_ur), sub(\"\\[|\\]\", \"\", raw_sr), raw_p.rstrip()\n",
        "      if p == \"1\":\n",
        "        syll_lengths.append(len(ur.split(\" \")))\n",
        "        UR_strings.append(ur)\n",
        "        new_sr = []\n",
        "        for syll in sr.split(\" \"):\n",
        "          new_syll = {\"L1\":\"1\", \"H1\":\"1\", \"L2\":\"2\", \"H2\":\"2\", \"L\":\"0\", \"H\":\"0\"}[syll]\n",
        "          new_sr.append(new_syll)\n",
        "        SR_strings.append(\" \".join(new_sr))\n",
        "\n",
        "  if copies > 1:\n",
        "    lexical_labels = [c for c in range(1,1+(copies*len(UR_strings)))]\n",
        "    shuffle(lexical_labels)\n",
        "    token_UR_strings = []\n",
        "    token_SR_strings = []\n",
        "    token_syll_lengths = []\n",
        "    for i, ur in enumerate(UR_strings):\n",
        "      sr = SR_strings[i]\n",
        "      for copy in range(copies):\n",
        "        this_label = str(lexical_labels.pop())\n",
        "        token_UR_strings.append(ur+\"_\"+this_label)\n",
        "        token_SR_strings.append(sr)\n",
        "        token_syll_lengths.append(syll_lengths[i])\n",
        "    return token_UR_strings, token_SR_strings, token_syll_lengths\n",
        "\n",
        "  return UR_strings, SR_strings, syll_lengths\n",
        "\n",
        "def get_arrays(UR_strings, SR_strings, syll_lengths):\n",
        "  symbol2feats_ur = {\n",
        "                  #Syll\t#Heavy\n",
        "              \"L\":[\t1.,\t\t-1.],\n",
        "              \"H\":[\t1.,\t\t1.],\n",
        "              \"E\":[\t-1.,\t\t-1.]\n",
        "            }\n",
        "  symbol2feats_sr = {}\n",
        "  for feat_bundle in feats2symbol_sr.keys():\n",
        "    these_feats = [float(f) for f in feat_bundle.split(\",\")]\n",
        "    symbol2feats_sr[feats2symbol_sr[feat_bundle]] = these_feats\n",
        "\n",
        "  if \"_\" in \"\".join(UR_strings):\n",
        "    #If we're using lexical features:\n",
        "    real_strings = []\n",
        "    raw_lex_nums = []\n",
        "    max_lexLen = -1\n",
        "    ur_pieces = ur.split(\"_\")\n",
        "    if len(ur_pieces) > 1:\n",
        "      real_string, lex_num = ur_pieces\n",
        "      bin_lex_num = str(bin(int(lex_num)).replace(\"0b\", \"\"))\n",
        "      raw_lex_nums.append(bin_lex_num)\n",
        "      if len(bin_lex_num) > max_lexLen:\n",
        "        max_lexLen = len(bin_lex_num)\n",
        "    else:\n",
        "      real_string = ur\n",
        "    real_strings.append(real_string)\n",
        "\n",
        "    lex_nums = []\n",
        "    for ln in raw_lex_nums:\n",
        "      zeros = \"0\" * (max_lexLen - len(ln))\n",
        "      lex_nums.append([float(digit) for digit in zeros+ln])\n",
        "\n",
        "    max_len = max(syll_lengths)\n",
        "    X_list = []\n",
        "    Y_list = []\n",
        "    for word_index, syll_length in enumerate(syll_lengths):\n",
        "      padding = \" \".join([\"E\"]*(max_len-syll_length))\n",
        "      this_length = len(real_strings[word_index].split(\" \"))\n",
        "      this_ur = real_strings[word_index]+\" \"+padding\n",
        "      this_sr = SR_strings[word_index]+\" \"+padding\n",
        "      if len(lex_nums) > 0:\n",
        "        X_list.append([symbol2feats_ur[seg]+lex_nums[word_index] for seg in this_ur.split(\" \") if seg != \"\"])\n",
        "      else:\n",
        "        X_list.append([symbol2feats_ur[seg] for seg in this_ur.split(\" \") if seg != \"\"])\n",
        "      Y_list.append([symbol2feats_sr[seg] for seg in this_sr.split(\" \") if seg != \"\"])\n",
        "  else:\n",
        "    max_len = max(syll_lengths)\n",
        "    X_list = []\n",
        "    Y_list = []\n",
        "    for word_index, syll_length in enumerate(syll_lengths):\n",
        "      padding = \" \".join([\"E\"]*(max_len-syll_length))\n",
        "      this_length = len(UR_strings[word_index].split(\" \"))\n",
        "      this_ur = UR_strings[word_index]+\" \"+padding\n",
        "      this_sr = SR_strings[word_index]+\" \"+padding\n",
        "      X_list.append([symbol2feats_ur[seg] for seg in this_ur.split(\" \") if seg != \"\"])\n",
        "      Y_list.append([symbol2feats_sr[seg] for seg in this_sr.split(\" \") if seg != \"\"])\n",
        "\n",
        "  X = np.array(X_list)\n",
        "  Y = np.array(Y_list)\n",
        "\n",
        "  return X, Y\n",
        "\n",
        "\n",
        "def get_test_arrays (UR_strings, syll_lengths):\n",
        "  symbol2feats_ur = {\n",
        "                #Syll\t#Heavy\n",
        "            \"L\":[\t1.,\t\t-1.],\n",
        "            \"H\":[\t1.,\t\t1.],\n",
        "            \"E\":[\t-1.,\t\t-1.]\n",
        "          }\n",
        "  real_strings = []\n",
        "  raw_lex_nums = []\n",
        "  max_lexLen = -1\n",
        "  for ur in UR_strings:\n",
        "    ur_pieces = ur.split(\"_\")\n",
        "    if len(ur_pieces) > 1:\n",
        "      real_string, lex_num = ur_pieces\n",
        "      bin_lex_num = str(bin(int(lex_num)).replace(\"0b\", \"\"))\n",
        "      raw_lex_nums.append(bin_lex_num)\n",
        "      if len(bin_lex_num) > max_lexLen:\n",
        "        max_lexLen = len(bin_lex_num)\n",
        "    else:\n",
        "      real_string = ur\n",
        "    real_strings.append(real_string)\n",
        "\n",
        "  lex_nums = []\n",
        "  for ln in raw_lex_nums:\n",
        "    zeros = \"0\" * (max_lexLen - len(ln))\n",
        "    lex_nums.append([0.0 for digit in zeros+ln]) #All zeroes for lexical features, b/c test data are nonce words\n",
        "\n",
        "  max_len = max(syll_lengths)\n",
        "  X_list = []\n",
        "  for word_index, syll_length in enumerate(syll_lengths):\n",
        "    padding = \" \".join([\"E\"]*(max_len-syll_length))\n",
        "    this_length = len(real_strings[word_index].split(\" \"))\n",
        "    this_ur = real_strings[word_index]+\" \"+padding\n",
        "    if len(lex_nums) > 0:\n",
        "      X_list.append([symbol2feats_ur[seg]+lex_nums[word_index] for seg in this_ur.split(\" \") if seg != \"\"])\n",
        "    else:\n",
        "      X_list.append([symbol2feats_ur[seg] for seg in this_ur.split(\" \") if seg != \"\"])\n",
        "\n",
        "  return np.array(X_list)"
      ],
      "execution_count": null,
      "outputs": []
    },
    {
      "cell_type": "markdown",
      "metadata": {
        "id": "gcw6CW8oNPPv"
      },
      "source": [
        "##Run the simulations"
      ]
    },
    {
      "cell_type": "code",
      "metadata": {
        "id": "8Xez-20vqckP"
      },
      "source": [
        "learning_curves = []\n",
        "lang2results = {l:{} for l in lang_list}\n",
        "lang2testResults = {l:{} for l in lang_list}\n",
        "lang2acc = {l:0 for l in lang_list}\n",
        "lang2SRs = {}\n",
        "for l in lang_list:\n",
        "  print (\"Language\", l)\n",
        "\n",
        "  #Load the training data:\n",
        "  file_name = \"ts\"+str(l)+\".csv\"\n",
        "  URs, SRs, Ls = get_strings(file_name, token_per_type)\n",
        "\n",
        "  lang2SRs[l] = SRs\n",
        "\n",
        "  X, Y = get_arrays(URs, SRs, Ls)\n",
        "  test_X = get_test_arrays(URs, Ls)\n",
        "  lang2results[l] = {ur:\"\" for ur in URs}\n",
        "  lang2testResults[l] = {sub(\"_.+\", \"\", ur):\"\" for ur in URs}\n",
        "\n",
        "  #Build the model:\n",
        "  model = Seq2Seq.seq2seq(\n",
        "                              input_dim=X.shape[2],\n",
        "                              hidden_dim=hidden_feat_num,\n",
        "                              output_length=Y.shape[1],\n",
        "                              output_dim=Y.shape[2],\n",
        "                              batch_size=batch_size,\n",
        "                              learn_rate=learning_rate\n",
        "                            )\n",
        "\t\n",
        "  #Train the model:\n",
        "  hist = model.train(\n",
        "                        X, Y,\n",
        "                        epoch_num=epoch_num,\n",
        "                        print_every=10\n",
        "                     )\n",
        "  \n",
        "  #Save the useful info and delete everything else:\n",
        "  #Training data performance:\n",
        "  learning_curves.append(hist[\"Loss\"])\n",
        "  Y_hat = model.predict(X)\n",
        "  accs_by_word = []\n",
        "  for i, word in enumerate(Y_hat):\n",
        "    word_list = []\n",
        "    for seg in word:\n",
        "      feat_strings = []\n",
        "      for feat in seg:\n",
        "        if feat < 0.0:\n",
        "          feat_strings.append(\"-1\")\n",
        "        elif feat > 0.0:\n",
        "          feat_strings.append(\"1\")\n",
        "        else:\n",
        "          raise Exception(\"Feature value of zero in output!\")\n",
        "      bundle_string = \",\".join(feat_strings)\n",
        "      if bundle_string in feats2symbol_sr.keys():\n",
        "        seg_string = feats2symbol_sr[bundle_string]\n",
        "      else:\n",
        "        seg_string = \"?\"\n",
        "      if seg_string != \"E\":\n",
        "        word_list.append(seg_string)\n",
        "    word_string = \" \".join(word_list)\n",
        "    if word_string == SRs[i]:\n",
        "      accs_by_word.append(1.0) \n",
        "    else:\n",
        "      accs_by_word.append(0.0) \n",
        "    lang2results[l][URs[i]] = word_string\n",
        "  lang2acc[l] = np.mean(accs_by_word)\n",
        "\n",
        "  #Test data performance\n",
        "  test_predictions = model.predict(test_X)\n",
        "  urs_so_far = []\n",
        "  for i, word in enumerate(test_predictions):\n",
        "    bare_ur = sub(\"_.+\", \"\", URs[i])\n",
        "    if bare_ur in urs_so_far:\n",
        "      continue\n",
        "    urs_so_far.append(bare_ur)  \n",
        "    word_list = []\n",
        "    for seg in word:\n",
        "      feat_strings = []\n",
        "      for feat in seg:\n",
        "        if feat < 0.0:\n",
        "          feat_strings.append(\"-1\")\n",
        "        elif feat > 0.0:\n",
        "          feat_strings.append(\"1\")\n",
        "        else:\n",
        "          raise Exception(\"Feature value of zero in output!\")\n",
        "      bundle_string = \",\".join(feat_strings)\n",
        "      if bundle_string in feats2symbol_sr.keys():\n",
        "        seg_string = feats2symbol_sr[bundle_string]\n",
        "      else:\n",
        "        seg_string = \"?\"\n",
        "      if seg_string != \"E\":\n",
        "        word_list.append(seg_string) \n",
        "    word_string = \" \".join(word_list)\n",
        "    if word_string == SRs[i]:\n",
        "      accs_by_word.append(1.0) \n",
        "    else:\n",
        "      accs_by_word.append(0.0) \n",
        "\n",
        "    lang2testResults[l][bare_ur] = word_string\n",
        "\n",
        "  backend.clear_session()\n",
        "  clear_output()"
      ],
      "execution_count": null,
      "outputs": []
    },
    {
      "cell_type": "markdown",
      "metadata": {
        "id": "2d7u75CXqfWO"
      },
      "source": [
        "##Plot and save the results:"
      ]
    },
    {
      "cell_type": "code",
      "metadata": {
        "id": "56w3un1_owBJ"
      },
      "source": [
        "l2ur2sr = {l:{} for l in lang_list}\n",
        "for l in lang_list:\n",
        "  SRs = lang2SRs[l]\n",
        "  for raw_ur, sr in zip(URs,SRs):\n",
        "    ur = sub(\"_.+\", \"\", raw_ur)\n",
        "    l2ur2sr[l][ur] = sr\n",
        "\n",
        "for l in lang_list:\n",
        "  type_acc = {}\n",
        "  output_file = open(\"/content/gdrive/My Drive/NN_Stress/Output_Files/\"+str(l)+\"_token_output.csv\", \"w\")\n",
        "  output_file.write(\"UR,Correct_SR,Predicted_SR\\n\")\n",
        "  for ur in lang2results[l].keys():\n",
        "    type_ur = sub(\"_.+\", \"\", ur)\n",
        "    this_sr = l2ur2sr[l][type_ur]\n",
        "    if type_ur in type_acc.keys():\n",
        "      type_acc[type_ur].append(int(lang2results[l][ur]==this_sr))\n",
        "    else:\n",
        "      type_acc[type_ur] = [int(lang2results[l][ur]==this_sr)]\n",
        "    output_file.write(\",\".join([ur, this_sr, lang2results[l][ur]])+\"\\n\")\n",
        "  output_file.close()\n",
        "\n",
        "  type_output_f = open(\"/content/gdrive/My Drive/NN_Stress/Output_Files/\"+str(l)+\"_type_output.csv\", \"w\")\n",
        "  type_output_f.write(\"UR-Type,Accuracy\\n\")\n",
        "  for ur in type_acc.keys():\n",
        "    type_output_f.write(ur+\",\"+str(np.mean(type_acc[ur]))+\"\\n\")\n",
        "  type_output_f.close()\n",
        "\n",
        "  test_output_f = open(\"/content/gdrive/My Drive/NN_Stress/Output_Files/\"+str(l)+\"_test_output.csv\", \"w\")\n",
        "  test_output_f.write(\"Test-UR,Correct-SR,Predicted-SR,Accuracy\\n\")\n",
        "  urs_so_far = []\n",
        "  for ur in lang2testResults[l].keys():\n",
        "    bare_ur = sub(\"_.+\", \"\", ur)\n",
        "    if bare_ur in urs_so_far:\n",
        "      continue\n",
        "    this_sr = l2ur2sr[l][bare_ur]\n",
        "    urs_so_far.append(bare_ur)\n",
        "    test_output_f.write(\",\".join([bare_ur, this_sr, lang2testResults[l][ur], str(int(this_sr==lang2testResults[l][ur]))])+\"\\n\")\n",
        "  test_output_f.close()   \n",
        "\n",
        "success_file = open(\"/content/gdrive/My Drive/NN_Stress/Output_Files/\"+str(lang_list[0])+\"-\"+str(lang_list[-1])+\"_accuracies.csv\", \"w\")\n",
        "success_file.write(\"Language,Accuracy\\n\")\n",
        "for l in lang2acc.keys():\n",
        "  success_file.write(str(l)+\",\"+str(lang2acc[l])+\"\\n\")\n",
        "success_file.close() "
      ],
      "execution_count": null,
      "outputs": []
    },
    {
      "cell_type": "code",
      "metadata": {
        "id": "yZ0C8ugw3U7U",
        "colab": {
          "base_uri": "https://localhost:8080/",
          "height": 283
        },
        "outputId": "1ea8f826-af6a-43c2-e82e-125383d2d77a"
      },
      "source": [
        "av_curve = np.mean(learning_curves, axis=0)\n",
        "plot(av_curve) "
      ],
      "execution_count": null,
      "outputs": [
        {
          "output_type": "execute_result",
          "data": {
            "text/plain": [
              "[<matplotlib.lines.Line2D at 0x7f29fb85a590>]"
            ]
          },
          "metadata": {
            "tags": []
          },
          "execution_count": 6
        },
        {
          "output_type": "display_data",
          "data": {
            "image/png": "[encoded data removed]",
            "text/plain": [
              "<Figure size 432x288 with 1 Axes>"
            ]
          },
          "metadata": {
            "tags": [],
            "needs_background": "light"
          }
        }
      ]
    }
  ]
}