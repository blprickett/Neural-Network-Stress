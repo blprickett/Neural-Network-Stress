{
  "nbformat": 4,
  "nbformat_minor": 0,
  "metadata": {
    "accelerator": "GPU",
    "colab": {
      "name": "Stress-Net-Windows.ipynb",
      "provenance": [],
      "collapsed_sections": []
    },
    "kernelspec": {
      "display_name": "Python 3",
      "name": "python3"
    }
  },
  "cells": [
    {
      "cell_type": "markdown",
      "metadata": {
        "id": "zZr8ReFcNBEi"
      },
      "source": [
        "##Hyperparameters for the model:"
      ]
    },
    {
      "cell_type": "code",
      "metadata": {
        "colab": {
          "base_uri": "https://localhost:8080/"
        },
        "id": "CTlg8GYqplLc",
        "outputId": "257b03aa-2b66-4208-89ec-3fdd0bb5c0ce"
      },
      "source": [
        "max_epochs = 1#000 #Maximum number of epochs\n",
        "learning_rate = 0.005\n",
        "hidden_feat_num = 20 #Was 20, then 40\n",
        "batch_size = 1\n",
        "layers = \"lstm\"\n",
        "\n",
        "lang_list = [1,2]#list(range(1,11)) #This doesn't actually change the language--just tells you how many reps you're doing\n",
        "token_per_type = 4\n",
        "windows = (.75, .25)  #This is a tuple that's N long (where N is the size of the window stress can appear in) \n",
        "                      #with each number representing the proportion of the time that that syllable is stressed.\n",
        "window_side = \"R\" #Will the window be from the right or left side of the word? (\"L\" for left, \"R\" for right)\n",
        "\n",
        "#Dictionary that maps from feature values in the SR to segments\n",
        "feats2symbol_sr = {\n",
        "                      \"1,1\":\"1\",\n",
        "                      \"1,-1\":\"0\",\n",
        "                      \"-1,-1\":\"E\" \n",
        "                  }\n",
        "\n",
        "#Mount the user's google drive:\n",
        "from google.colab import drive\n",
        "drive.mount('/content/gdrive', force_remount=True)"
      ],
      "execution_count": null,
      "outputs": [
        {
          "output_type": "stream",
          "name": "stdout",
          "text": [
            "Mounted at /content/gdrive\n"
          ]
        }
      ]
    },
    {
      "cell_type": "markdown",
      "metadata": {
        "id": "4kHGQQcmM9nZ"
      },
      "source": [
        "##Import the necessary packages:"
      ]
    },
    {
      "cell_type": "code",
      "metadata": {
        "colab": {
          "base_uri": "https://localhost:8080/"
        },
        "id": "NzGfc-lRpId2",
        "outputId": "aadb9377-d416-4adf-9719-352bc8602882"
      },
      "source": [
        "#CD into our google drive so we can use the custom Seq2Seq package\n",
        "%cd gdrive/My Drive\n",
        "\n",
        "import numpy as np\n",
        "from keras import backend\n",
        "import Seq2Seq\n",
        "\n",
        "from re import sub, search\n",
        "from random import choice, shuffle\n",
        "from itertools import product\n",
        "from matplotlib.pyplot import plot\n",
        "from IPython.display import clear_output\n"
      ],
      "execution_count": null,
      "outputs": [
        {
          "output_type": "stream",
          "name": "stdout",
          "text": [
            "/content/gdrive/My Drive\n"
          ]
        }
      ]
    },
    {
      "cell_type": "markdown",
      "metadata": {
        "id": "RiyA_Je6NIdU"
      },
      "source": [
        "##Functions for processing the training data"
      ]
    },
    {
      "cell_type": "code",
      "metadata": {
        "id": "gWYjgS_MqcFX"
      },
      "source": [
        "def get_strings(input_fn, copies=1):\n",
        "  input_file = open(\"/content/gdrive/My Drive/NN_Stress/Input_Files/\"+input_fn)\n",
        "  input_file.readline()\n",
        "  UR_strings = []\n",
        "  SR_strings = []\n",
        "  syll_lengths = []\n",
        "  for line in input_file.readlines():\n",
        "    columns = line.split(\",\")\n",
        "    if len(columns) == 1:\n",
        "      raw_ur = line.rstrip() \n",
        "    if len(columns) == 3:\n",
        "      raw_sr = columns[1]\n",
        "      raw_p = columns[2]\n",
        "      ur, sr, p = sub(\"\\\"|\\[|\\]\", \"\", raw_ur), sub(\"\\[|\\]\", \"\", raw_sr), raw_p.rstrip()\n",
        "      if p == \"1\":\n",
        "        syll_lengths.append(len(ur.split(\" \")))\n",
        "        UR_strings.append(ur)\n",
        "        new_sr = []\n",
        "        for syll in sr.split(\" \"):\n",
        "          new_syll = {\"L1\":\"1\", \"H1\":\"1\", \"L2\":\"2\", \"H2\":\"2\", \"L\":\"0\", \"H\":\"0\"}[syll]\n",
        "          new_sr.append(new_syll)\n",
        "        SR_strings.append(\" \".join(new_sr))\n",
        "\n",
        "  if copies > 1 and len(windows) > 0:\n",
        "    lexical_labels = [c for c in range(1,1+(copies*len(UR_strings)))]\n",
        "    shuffle(lexical_labels)\n",
        "    token_UR_strings = []\n",
        "    token_SR_strings = []\n",
        "    token_syll_lengths = []\n",
        "    for i, ur in enumerate(UR_strings):\n",
        "      old_sr = SR_strings[i]\n",
        "\n",
        "      #Window-based stress:\n",
        "      these_patterns = [] #List of indeces showing where, on each copy the stress happens\n",
        "      for j, p in enumerate(windows):\n",
        "        num_tokens = p*copies\n",
        "        if num_tokens % 1 != 0:\n",
        "          raise Exception(\"Window proportions do not make integers with copy number!\")\n",
        "        for k in range(int(num_tokens)):\n",
        "          these_patterns.append(j)\n",
        "      shuffle(these_patterns)\n",
        "      for copy in range(copies):\n",
        "        this_label = str(lexical_labels.pop())\n",
        "        token_UR_strings.append(ur+\"_\"+this_label)\n",
        "\n",
        "        #Create SR based on window size:\n",
        "        new_sr = []\n",
        "        this_pattern = these_patterns.pop()\n",
        "        if window_side == \"L\":\n",
        "          for j, syll in enumerate(old_sr.split(\" \")):\n",
        "            if j == this_pattern:\n",
        "              new_sr.append(\"1\")\n",
        "            else:\n",
        "              new_sr.append(\"0\")\n",
        "        elif window_side == \"R\":\n",
        "          window_counter = 0\n",
        "          for j, syll in enumerate(old_sr.split(\" \")):\n",
        "            if j >= len(old_sr.split(\" \"))-len(windows) and window_counter == this_pattern:\n",
        "              new_sr.append(\"1\")\n",
        "              window_counter += 1\n",
        "            elif j >= len(old_sr.split(\" \"))-len(windows):\n",
        "              new_sr.append(\"0\")\n",
        "              window_counter += 1\n",
        "            else:\n",
        "              new_sr.append(\"0\")\n",
        "        else:\n",
        "          raise Exception(\"The variable window_side must be 'L' or 'R'!\")\n",
        "\n",
        "        #print(old_sr, \"->\", \" \".join(new_sr), \"...\", this_pattern, \"!!\", ur)\n",
        "        token_SR_strings.append(\" \".join(new_sr))\n",
        "        token_syll_lengths.append(syll_lengths[i])\n",
        "    return token_UR_strings, token_SR_strings, token_syll_lengths\n",
        "\n",
        "  return UR_strings, SR_strings, syll_lengths\n",
        "\n",
        "def get_arrays(UR_strings, SR_strings, syll_lengths):\n",
        "  symbol2feats_ur = {\n",
        "                  #Syll\t#Heavy\n",
        "              \"L\":[\t1.,\t\t-1.],\n",
        "              \"H\":[\t1.,\t\t1.],\n",
        "              \"E\":[\t-1.,\t\t-1.]\n",
        "            }\n",
        "  symbol2feats_sr = {}\n",
        "  for feat_bundle in feats2symbol_sr.keys():\n",
        "    these_feats = [float(f) for f in feat_bundle.split(\",\")]\n",
        "    symbol2feats_sr[feats2symbol_sr[feat_bundle]] = these_feats\n",
        "\n",
        "  if \"_\" in \"\".join(UR_strings):\n",
        "    #If we're using lexical features:\n",
        "    real_strings = []\n",
        "    raw_lex_nums = []\n",
        "    max_lexLen = -1\n",
        "    for ur in UR_strings:\n",
        "      real_string, lex_num = ur.split(\"_\")\n",
        "      real_strings.append(real_string)\n",
        "      bin_lex_num = str(bin(int(lex_num)).replace(\"0b\", \"\"))\n",
        "      raw_lex_nums.append(bin_lex_num)\n",
        "      if len(bin_lex_num) > max_lexLen:\n",
        "        max_lexLen = len(bin_lex_num)\n",
        "    lex_nums = []\n",
        "    for ln in raw_lex_nums:\n",
        "      zeros = \"0\" * (max_lexLen - len(ln))\n",
        "      lex_nums.append([float(digit) for digit in zeros+ln])\n",
        "\n",
        "    max_len = max(syll_lengths)\n",
        "    X_list = []\n",
        "    Y_list = []\n",
        "    for word_index, syll_length in enumerate(syll_lengths):\n",
        "      padding = \" \".join([\"E\"]*(max_len-syll_length))\n",
        "      this_length = len(real_strings[word_index].split(\" \"))\n",
        "      this_ur = real_strings[word_index]+\" \"+padding\n",
        "      this_sr = SR_strings[word_index]+\" \"+padding\n",
        "      X_list.append([symbol2feats_ur[seg]+lex_nums[word_index] for seg in this_ur.split(\" \") if seg != \"\"])\n",
        "      Y_list.append([symbol2feats_sr[seg] for seg in this_sr.split(\" \") if seg != \"\"])\n",
        "  else:\n",
        "    max_len = max(syll_lengths)\n",
        "    X_list = []\n",
        "    Y_list = []\n",
        "    for word_index, syll_length in enumerate(syll_lengths):\n",
        "      padding = \" \".join([\"E\"]*(max_len-syll_length))\n",
        "      this_length = len(UR_strings[word_index].split(\" \"))\n",
        "      this_ur = UR_strings[word_index]+\" \"+padding\n",
        "      this_sr = SR_strings[word_index]+\" \"+padding\n",
        "      X_list.append([symbol2feats_ur[seg] for seg in this_ur.split(\" \") if seg != \"\"])\n",
        "      Y_list.append([symbol2feats_sr[seg] for seg in this_sr.split(\" \") if seg != \"\"])\n",
        "\n",
        "  X = np.array(X_list)\n",
        "  Y = np.array(Y_list)\n",
        "\n",
        "  return X, Y\n",
        "\n",
        "\n",
        "def get_test_arrays (UR_strings, syll_lengths):\n",
        "  symbol2feats_ur = {\n",
        "                #Syll\t#Heavy\n",
        "            \"L\":[\t1.,\t\t-1.],\n",
        "            \"H\":[\t1.,\t\t1.],\n",
        "            \"E\":[\t-1.,\t\t-1.]\n",
        "          }\n",
        "  real_strings = []\n",
        "  raw_lex_nums = []\n",
        "  max_lexLen = -1\n",
        "  for ur in UR_strings:\n",
        "    real_string, lex_num = ur.split(\"_\")\n",
        "    real_strings.append(real_string)\n",
        "    bin_lex_num = str(bin(int(lex_num)).replace(\"0b\", \"\"))\n",
        "    raw_lex_nums.append(bin_lex_num)\n",
        "    if len(bin_lex_num) > max_lexLen:\n",
        "      max_lexLen = len(bin_lex_num)\n",
        "  lex_nums = []\n",
        "  for ln in raw_lex_nums:\n",
        "    zeros = \"0\" * (max_lexLen - len(ln))\n",
        "    lex_nums.append([0.0 for digit in zeros+ln]) #All zeroes for lexical features, b/c test data are nonce words\n",
        "\n",
        "  max_len = max(syll_lengths)\n",
        "  X_list = []\n",
        "  for word_index, syll_length in enumerate(syll_lengths):\n",
        "    padding = \" \".join([\"E\"]*(max_len-syll_length))\n",
        "    this_length = len(real_strings[word_index].split(\" \"))\n",
        "    this_ur = real_strings[word_index]+\" \"+padding\n",
        "    X_list.append([symbol2feats_ur[seg]+lex_nums[word_index] for seg in this_ur.split(\" \") if seg != \"\"])\n",
        "\n",
        "  return np.array(X_list)"
      ],
      "execution_count": null,
      "outputs": []
    },
    {
      "cell_type": "markdown",
      "metadata": {
        "id": "gcw6CW8oNPPv"
      },
      "source": [
        "##Run the simulations"
      ]
    },
    {
      "cell_type": "code",
      "metadata": {
        "id": "8Xez-20vqckP",
        "colab": {
          "base_uri": "https://localhost:8080/"
        },
        "outputId": "504310e7-4ebe-42d3-ec97-d9babe1cd197"
      },
      "source": [
        "learning_curves = []\n",
        "lang2results = {l:{} for l in lang_list}\n",
        "lang2testResults = {l:{} for l in lang_list}\n",
        "lang2acc = {l:0 for l in lang_list}\n",
        "lang2SRs = {}\n",
        "lang2URs = {}\n",
        "lang2epochs = {}\n",
        "failed_reps = []\n",
        "for l in lang_list:\n",
        "  print (\"Rep\", l, \"of\", lang_list[-1], \"... Learning language with\", window_side, \"aligned stress and probabilities of\", windows, \"...\")\n",
        "\n",
        "  #Load the training data:\n",
        "  file_name = \"ts\"+str(l)+\".csv\"\n",
        "  URs, SRs, Ls = get_strings(file_name, token_per_type)\n",
        "  lang2SRs[l] = SRs\n",
        "  lang2URs[l] = URs\n",
        "  X, Y = get_arrays(URs, SRs, Ls)\n",
        "  test_X = get_test_arrays(URs, Ls)\n",
        "  lang2results[l] = {ur:\"\" for ur in URs}\n",
        "  lang2testResults[l] = {sub(\"_.+\", \"\", ur):\"\" for ur in URs}\n",
        "\n",
        "  #Build the model:\n",
        "  model = Seq2Seq.seq2seq(\n",
        "                              input_dim=X.shape[2],\n",
        "                              hidden_dim=hidden_feat_num,\n",
        "                              output_length=Y.shape[1],\n",
        "                              output_dim=Y.shape[2],\n",
        "                              batch_size=batch_size,\n",
        "                              learn_rate=learning_rate,\n",
        "                              layer_type=layers\n",
        "                            )\n",
        "  this_curve = []\n",
        "  for ep in range(max_epochs):\n",
        "    if ep+1 % 10 == 0:\n",
        "      print(\"Epoch\", ep+1)\n",
        "\n",
        "    #Train the model:\n",
        "    hist = model.train(\n",
        "                          X, Y,\n",
        "                          epoch_num=1,\n",
        "                          print_every=10\n",
        "                      )\n",
        "    this_curve += hist[\"Loss\"] \n",
        "\n",
        "    if ep % 100 == 0:\n",
        "      #Check performance on the training data\n",
        "      #to see if we can end the simulation:\n",
        "      Y_hat = model.predict(X)\n",
        "      accs_by_word = []\n",
        "      epoch_num = 0\n",
        "      for i, word in enumerate(Y_hat):\n",
        "        word_list = []\n",
        "        for seg in word:\n",
        "          feat_strings = []\n",
        "          for feat in seg:\n",
        "            if feat < 0.0:\n",
        "              feat_strings.append(\"-1\")\n",
        "            elif feat > 0.0:\n",
        "              feat_strings.append(\"1\")\n",
        "            else:\n",
        "              raise Exception(\"Feature value of zero in output!\")\n",
        "          bundle_string = \",\".join(feat_strings)\n",
        "          if bundle_string in feats2symbol_sr.keys():\n",
        "            seg_string = feats2symbol_sr[bundle_string]\n",
        "          else:\n",
        "            seg_string = \"?\"\n",
        "          if seg_string != \"E\":\n",
        "            word_list.append(seg_string)\n",
        "        word_string = \" \".join(word_list)\n",
        "        if word_string == SRs[i]:\n",
        "          accs_by_word.append(1.0) \n",
        "        else:\n",
        "          accs_by_word.append(0.0) \n",
        "      overall_acc = np.mean(accs_by_word)\n",
        "      \n",
        "      if overall_acc == 1.0:\n",
        "        break\n",
        "      else:\n",
        "        print(\"\\t\"+str(overall_acc*100)+\"% accurate...\")\n",
        "  \n",
        "  if overall_acc != 1.0:\n",
        "    #raise Exception(\"Failed to reach 100% accuracy on training data!\")\n",
        "    #lang_list.append(lang_list[-1]+1)\n",
        "    failed_reps.append(l)\n",
        "    continue\n",
        "  lang2epochs[l] = ep+1\n",
        "      \n",
        "  #Save the useful info and delete everything else:\n",
        "  #Loss in training\n",
        "  learning_curves.append(this_curve)\n",
        "\n",
        "  #Test data performance\n",
        "  test_predictions = model.predict(test_X)\n",
        "  for i, word in enumerate(test_predictions):\n",
        "    word_list = []\n",
        "    for seg in word:\n",
        "      feat_strings = []\n",
        "      for feat in seg:\n",
        "        if feat < 0.0:\n",
        "          feat_strings.append(\"-1\")\n",
        "        elif feat > 0.0:\n",
        "          feat_strings.append(\"1\")\n",
        "        else:\n",
        "          raise Exception(\"Feature value of zero in output!\")\n",
        "      bundle_string = \",\".join(feat_strings)\n",
        "      if bundle_string in feats2symbol_sr.keys():\n",
        "        seg_string = feats2symbol_sr[bundle_string]\n",
        "      else:\n",
        "        seg_string = \"?\"\n",
        "      if seg_string != \"E\":\n",
        "        word_list.append(seg_string)\n",
        "    word_string = \" \".join(word_list)\n",
        "    if word_string == SRs[i]:\n",
        "      accs_by_word.append(1.0) \n",
        "    else:\n",
        "      accs_by_word.append(0.0) \n",
        "    lang2testResults[l][sub(\"_.+\", \"\", URs[i])] = word_string \n",
        "\n",
        "  backend.clear_session() \n",
        "  clear_output()"
      ],
      "execution_count": null,
      "outputs": [
        {
          "output_type": "stream",
          "name": "stdout",
          "text": [
            "Rep 1 of 2 ... Learning language with R aligned stress and probabilities of (0.75, 0.25) ...\n",
            "\t0.0% accurate...\n",
            "Rep 2 of 2 ... Learning language with R aligned stress and probabilities of (0.75, 0.25) ...\n",
            "\t0.0% accurate...\n"
          ]
        }
      ]
    },
    {
      "cell_type": "markdown",
      "metadata": {
        "id": "2d7u75CXqfWO"
      },
      "source": [
        "##Plot and save the results:"
      ]
    },
    {
      "cell_type": "code",
      "metadata": {
        "id": "56w3un1_owBJ"
      },
      "source": [
        "for l in lang_list:\n",
        "  if l in failed_reps:\n",
        "    continue\n",
        "  #type_acc = {} \n",
        "  #output_file = open(\"/content/gdrive/My Drive/NN_Stress/Output_Files/\"+window_side+\"(\"+str(windows[0])+\",\"+str(windows[1])+\")\"+\"_token_output_\"+str(l)+\".csv\", \"w\")\n",
        "  #output_file.write(\"UR,Correct_SR,Predicted_SR\\n\")\n",
        "  #for ur, sr in zip(lang2URs[l], lang2SRs[l]):\n",
        "  #  type_ur = sub(\"_.+\", \"\", ur)\n",
        "  #  if type_ur in type_acc.keys():\n",
        "  #    type_acc[type_ur].append(int(lang2results[l][ur]==sr))\n",
        "  #  else:\n",
        "  #    type_acc[type_ur] = [int(lang2results[l][ur]==sr)]\n",
        "  #  output_file.write(\",\".join([ur, sr, lang2results[l][ur]])+\"\\n\")\n",
        "  #output_file.close()\n",
        "\n",
        "  #type_output_f = open(\"/content/gdrive/My Drive/NN_Stress/Output_Files/\"+window_side+\"(\"+str(windows[0])+\",\"+str(windows[1])+\")\"+\"_type_output_\"+str(l)+\".csv\", \"w\")\n",
        "  #type_output_f.write(\"UR-Type,Accuracy\\n\")\n",
        "  #for ur in type_acc.keys():\n",
        "  #  type_output_f.write(ur+\",\"+str(np.mean(type_acc[ur]))+\"\\n\")\n",
        "  #type_output_f.close()\n",
        "\n",
        "  test_output_f = open(\"/content/gdrive/My Drive/NN_Stress/Output_Files/\"+window_side+\"(\"+str(windows[0])+\",\"+str(windows[1])+\")\"+\"_test_output_\"+str(l)+\".csv\", \"w\")\n",
        "  test_output_f.write(\"Test-UR,Predicted-SR,Stressed-Syll\\n\")\n",
        "  urs_so_far = []\n",
        "  for ur in lang2testResults[l].keys():\n",
        "    bare_ur = sub(\"_.+\", \"\", ur)\n",
        "    if bare_ur in urs_so_far:\n",
        "      continue\n",
        "    urs_so_far.append(bare_ur)\n",
        "\n",
        "    #What syllable in the window got stressed?\n",
        "    if search(\"^[0 ]*1[0 ]*$\", lang2testResults[l][ur]):\n",
        "      stressed_syll_i = lang2testResults[l][ur].split(\" \").index(\"1\")\n",
        "      if window_side == \"L\" and stressed_syll_i >= len(windows):\n",
        "        stressed_syll = \"Outside of Window\"\n",
        "      elif window_side == \"R\" and stressed_syll_i < (len(bare_ur.split(\" \")) - len(windows)):\n",
        "        stressed_syll = \"Outside of Window\"\n",
        "      elif window_side == \"L\":\n",
        "        stressed_syll = str(stressed_syll_i)\n",
        "      elif window_side == \"R\":\n",
        "        new_i = stressed_syll_i - (len(bare_ur.split(\" \")) - len(windows)) \n",
        "        stressed_syll = str(new_i)\n",
        "    else:\n",
        "      stressed_syll = \"Wrong number of stressed syllables!\"\n",
        "\n",
        "    test_output_f.write(\",\".join([bare_ur, lang2testResults[l][bare_ur], stressed_syll])+\"\\n\")\n",
        "  test_output_f.close()   \n",
        "\n",
        "#success_file = open(\"/content/gdrive/My Drive/NN_Stress/Output_Files/\"+window_side+\"(\"+str(windows[0])+\",\"+str(windows[1])+\")\"+\"_accuracies.csv\", \"w\")\n",
        "#success_file.write(\"Language,Accuracy\\n\")\n",
        "#for l in lang2acc.keys():\n",
        "#  success_file.write(str(l)+\",\"+str(lang2acc[l])+\"\\n\")\n",
        "#success_file.close()  \n",
        "\n",
        "epoch_file = open(\"/content/gdrive/My Drive/NN_Stress/Output_Files/\"+window_side+\"(\"+str(windows[0])+\",\"+str(windows[1])+\")\"+\"_NumberOfEpochs.csv\", \"w\")\n",
        "epoch_file.write(\"Language,EpochNum\\n\")\n",
        "for l in lang2epochs.keys():\n",
        "  epoch_file.write(str(l)+\",\"+str(lang2epochs[l])+\"\\n\")\n",
        "epoch_file.close()  \n"
      ],
      "execution_count": null,
      "outputs": []
    },
    {
      "cell_type": "code",
      "metadata": {
        "id": "yZ0C8ugw3U7U",
        "colab": {
          "base_uri": "https://localhost:8080/",
          "height": 352
        },
        "outputId": "a6d3280e-bc2d-4b9d-8e0c-4761b33e35bc"
      },
      "source": [
        "max_length = -1\n",
        "for curve in learning_curves:\n",
        "  if len(curve) > max_length:\n",
        "    max_length = len(curve)\n",
        "padded_curves = [c+[c[-1] for pad in range(max_length-len(c))] for c in learning_curves]\n",
        "av_curve = np.mean(padded_curves, axis=0)\n",
        "plot(av_curve) "
      ],
      "execution_count": null,
      "outputs": [
        {
          "output_type": "stream",
          "name": "stderr",
          "text": [
            "/usr/local/lib/python3.7/dist-packages/numpy/core/fromnumeric.py:3373: RuntimeWarning: Mean of empty slice.\n",
            "  out=out, **kwargs)\n",
            "/usr/local/lib/python3.7/dist-packages/numpy/core/_methods.py:170: RuntimeWarning: invalid value encountered in double_scalars\n",
            "  ret = ret.dtype.type(ret / rcount)\n"
          ]
        },
        {
          "output_type": "execute_result",
          "data": {
            "text/plain": [
              "[<matplotlib.lines.Line2D at 0x7fa8efe68250>]"
            ]
          },
          "metadata": {},
          "execution_count": 8
        },
        {
          "output_type": "display_data",
          "data": {
            "image/png": "[encoded data removed]",
            "text/plain": [
              "<Figure size 432x288 with 1 Axes>"
            ]
          },
          "metadata": {
            "needs_background": "light"
          }
        }
      ]
    }
  ]
}