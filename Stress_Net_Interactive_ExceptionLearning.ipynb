{
  "cells": [
    {
      "cell_type": "markdown",
      "metadata": {
        "id": "zZr8ReFcNBEi"
      },
      "source": [
        "##Hyperparameters for the model:"
      ]
    },
    {
      "cell_type": "code",
      "execution_count": 1,
      "metadata": {
        "id": "CTlg8GYqplLc"
      },
      "outputs": [],
      "source": [
        "iterations = 50 #Number of teacher-student switching\n",
        "eps = 1 #number of updates per teaching moment\n",
        "lr = 0.005 #how fast we learn\n",
        "hidden_feat_num = 20\n",
        "reps =  25 #Number of repetitions of the full simulation\n",
        "vocab_size = 100\n",
        "\n",
        "my_dir = \"/content/gdrive/My Drive/NN_Stress/Output_Files_AgentBased\"\n",
        "\n",
        "#Dictionary that maps from feature values in the SR to segments:\n",
        "#Features that just have stress in output:\n",
        "feats2symbol_sr = {\n",
        "                      \"1\":\"L\",\n",
        "                      \"-1\":\"R\"\n",
        "                  }"
      ]
    },
    {
      "cell_type": "markdown",
      "metadata": {
        "id": "4kHGQQcmM9nZ"
      },
      "source": [
        "##Import the necessary packages:"
      ]
    },
    {
      "cell_type": "code",
      "execution_count": 3,
      "metadata": {
        "colab": {
          "base_uri": "https://localhost:8080/"
        },
        "id": "NzGfc-lRpId2",
        "outputId": "603e7844-9489-479b-f216-7c7a52ad91bd"
      },
      "outputs": [
        {
          "output_type": "stream",
          "name": "stdout",
          "text": [
            "Mounted at /content/gdrive\n"
          ]
        }
      ],
      "source": [
        "import numpy as np\n",
        "from re import sub, search, findall\n",
        "import keras\n",
        "from tensorflow.keras import backend\n",
        "from random import choice, shuffle, randint\n",
        "from itertools import product\n",
        "from matplotlib.pyplot import plot, legend, show, xlabel, ylabel, title, ylim\n",
        "from IPython.display import clear_output\n",
        "import os\n",
        "from os import listdir\n",
        "from pathlib import Path\n",
        "from google.colab import drive\n",
        "drive.mount('/content/gdrive', force_remount=True)"
      ]
    },
    {
      "cell_type": "code",
      "execution_count": 4,
      "metadata": {
        "id": "S5pugIr0g34h"
      },
      "outputs": [],
      "source": [
        "#Features for the input (binary phonological feats, with -1 and 1 being - and +, resp.):\n",
        "symbol2feats_ur = {\n",
        "                  #Non-Empty  syll labial  velar voice high  front low\n",
        "              \"p\":[1,         -1,  1,      -1,    -1,   -1,    -1,    -1],\n",
        "              \"b\":[1,         -1,  1,      -1,    1,    -1,    -1,   -1],\n",
        "              \"t\":[1,         -1,  -1,      -1,    -1,    -1,    -1,    -1],\n",
        "              \"d\":[1,         -1,  -1,      -1,    1,    -1,    -1,    -1],\n",
        "              \"k\":[1,         -1,  -1,      1,   -1,    -1,    -1,    -1],\n",
        "              \"g\":[1,         -1,  -1,      1,    1,    -1,    -1,    -1],\n",
        "              \"a\":[1,         1,  -1,      -1,    1,    -1,    -1,    1],\n",
        "              \"i\":[1,         1,  -1,      -1,    1,    1,    1,    -1],\n",
        "              \"e\":[1,         1,  -1,      -1,    1,    -1,    1,    -1],\n",
        "              \"o\":[1,         1,  -1,      -1,    1,    -1,    -1,    -1],\n",
        "              \"u\":[1,         1,  -1,      -1,    1,    1,    -1,    -1],\n",
        "              \"E\":[-1,        -1,  -1,      -1,   -1,    -1,   -1,    -1]\n",
        "}\n",
        "\n",
        "#Features for the output:\n",
        "feats2symbol_sr = {\n",
        "                      \"1\":\"L\", #left-aligned stress\n",
        "                      \"-1\":\"R\", #right-aligned stress\n",
        "\n",
        "                  }"
      ]
    },
    {
      "cell_type": "markdown",
      "metadata": {
        "id": "RiyA_Je6NIdU"
      },
      "source": [
        "##Custom Functions"
      ]
    },
    {
      "cell_type": "code",
      "execution_count": 5,
      "metadata": {
        "id": "gWYjgS_MqcFX"
      },
      "outputs": [],
      "source": [
        "def get_arrays(UR_strings, syll_lengths, SR_strings=[\"None\"]):\n",
        "  #Converts sets of strings into the numerical inputs the models need:\n",
        "  max_len = max(syll_lengths)\n",
        "  X_list = []\n",
        "\n",
        "  for word_index, syll_length in enumerate(syll_lengths):\n",
        "    padding = \"E\"*(max_len-syll_length)\n",
        "    this_ur = UR_strings[word_index]+padding\n",
        "    X_list.append([symbol2feats_ur[seg] for seg in this_ur])\n",
        "\n",
        "  X = np.array(X_list, dtype='float32')\n",
        "\n",
        "  return X\n",
        "\n",
        "def MSE(A, B):\n",
        "  #Returns the mse of the outputs for each model:\n",
        "  squared_errors = []\n",
        "  for a, b in zip(A,B):\n",
        "    for a_seg, b_seg in zip(a, b):\n",
        "      for a_feat, b_feat in zip(a_seg, b_seg):\n",
        "        squared_errors.append((a_feat-b_feat) ** 2)\n",
        "  return np.mean(squared_errors)\n",
        "\n",
        "def big_model():\n",
        "  #This function based on the tutorial at\n",
        "  #https://blog.keras.io/a-ten-minute-introduction-to-sequence-to-sequence-learning-in-keras.html\n",
        "\n",
        "  #Keep track of the number of input and output features we have:\n",
        "  num_encoder_features = len(list(symbol2feats_ur.values())[0])\n",
        "  num_decoder_features = len(list(feats2symbol_sr.keys())[0].split(\",\"))\n",
        "\n",
        "  #Define an input sequence and process it with the encoder:\n",
        "  encoder_inputs = keras.Input(shape=(None, num_encoder_features))\n",
        "  encoder1 = keras.layers.LSTM(hidden_feat_num, return_state=True, return_sequences=True)\n",
        "  encoder2 = keras.layers.LSTM(hidden_feat_num, return_state=True)\n",
        "  encoder1_outputs, state_h1, state_c1 = encoder1(encoder_inputs)\n",
        "  encoder2_outputs, state_h2, state_c2 = encoder2(encoder1_outputs)\n",
        "\n",
        "  #Discard encoder_outputs and only keep the states (recurrent connections):\n",
        "  encoder1_states = [state_h1, state_c1]\n",
        "  encoder2_states = [state_h2, state_c2]\n",
        "\n",
        "  #Set up the decoder, using `encoder_states` as initial state:\n",
        "  decoder1_inputs = keras.Input(shape=(None, num_decoder_features))\n",
        "\n",
        "  #Setting up the decoder:\n",
        "  decoder1_lstm = keras.layers.LSTM(hidden_feat_num, return_sequences=True, return_state=True)\n",
        "  decoder2_lstm = keras.layers.LSTM(hidden_feat_num, return_sequences=True, return_state=True)\n",
        "  decoder1_outputs, _, _ = decoder1_lstm(decoder1_inputs, initial_state=encoder1_states)\n",
        "  decoder2_outputs, _, _ = decoder2_lstm(decoder1_outputs, initial_state=encoder2_states)\n",
        "  decoder_dense = keras.layers.Dense(num_decoder_features, activation=\"tanh\")\n",
        "\n",
        "  decoder_outputs = decoder_dense(decoder2_outputs)\n",
        "\n",
        "  # Define the full model:\n",
        "  model = keras.Model([encoder_inputs, decoder1_inputs], decoder_outputs)\n",
        "\n",
        "  return model\n",
        "\n",
        "def build_data(syll_inventory):\n",
        "  #This takes an inventory of syllables and returns\n",
        "  #a randomly built lexicon the size of \"vocab_size\":\n",
        "  X_strings = []\n",
        "  word_lengths = []\n",
        "\n",
        "  building_train = True\n",
        "  exit_counter = 0\n",
        "  while building_train:\n",
        "    exit_counter += 1\n",
        "    if exit_counter >= 100000:\n",
        "      raise Exception(\"Need bigger training space or smaller vocab size!\")\n",
        "\n",
        "    word_length = choice([1, 2, 3, 4, 5])\n",
        "    this_word = \"\".join([choice(syll_inventory) for syll in range(word_length)])\n",
        "    if this_word in X_strings:\n",
        "      continue\n",
        "\n",
        "    if building_train:\n",
        "      word_lengths.append(len(this_word))\n",
        "      X_strings.append(this_word)\n",
        "      if len(X_strings) == vocab_size:\n",
        "        building_train = False\n",
        "  return X_strings, word_lengths"
      ]
    },
    {
      "cell_type": "markdown",
      "metadata": {
        "id": "v1F3iFk9W35n"
      },
      "source": [
        "##Run simulation"
      ]
    },
    {
      "cell_type": "code",
      "execution_count": 6,
      "metadata": {
        "id": "ScIlPdfaW78p"
      },
      "outputs": [],
      "source": [
        "#Make the inputs:\n",
        "C_inventory = [\"p\", \"b\", \"t\", \"d\", \"k\", \"g\"]\n",
        "V_inventory = [\"a\", \"i\", \"e\", \"o\", \"u\"]\n",
        "\n",
        "syll_inventory = []\n",
        "for c in C_inventory:\n",
        "  for v in V_inventory:\n",
        "    syll_inventory.append(c+v)\n",
        "\n",
        "results_dict = {r:{i:{\"A\":[\"\" for x in range(vocab_size)], \"B\":[\"\" for x in range(vocab_size)]} for i in range(iterations+1)} for r in range(reps)}\n",
        "rep2learningCurve = {r:[0.0 for i in range(iterations+1)] for r in range(reps)}\n",
        "for rep in range(reps):\n",
        "  print (\"Repetition: \", rep)\n",
        "\n",
        "  #Create data for this repetition:\n",
        "  X_strings, word_lengths = build_data(syll_inventory)\n",
        "  X = get_arrays(X_strings, word_lengths)\n",
        "  Y_dims = [1, len(list(feats2symbol_sr.keys())[0].split(\",\"))]\n",
        "\n",
        "  #Decoder inputs are randomly produced (only want it looking at recurrent connections):\n",
        "  decoder_data_A = np.array([[[randint(-100,100)]] for x in X_strings])\n",
        "  decoder_data_B = np.array([[[randint(-100,100)]] for x in X_strings])\n",
        "\n",
        "  #Build the models:\n",
        "  model_A = big_model()\n",
        "  model_B = big_model()\n",
        "  opt1 = keras.optimizers.RMSprop(learning_rate=lr)\n",
        "  opt2 = keras.optimizers.RMSprop(learning_rate=lr)\n",
        "  model_A.compile(\n",
        "        optimizer=opt1, loss=\"mean_squared_error\", metrics=[\"accuracy\"]\n",
        "    )\n",
        "  model_B.compile(\n",
        "        optimizer=opt2, loss=\"mean_squared_error\", metrics=[\"accuracy\"]\n",
        "    )\n",
        "\n",
        "  #Save the initial results:\n",
        "  Y_hat_A = model_A.predict([X, decoder_data_A])\n",
        "  Y_hat_B = model_B.predict([X, decoder_data_B])\n",
        "  rep2learningCurve[rep][0] = MSE(Y_hat_A, Y_hat_B)\n",
        "\n",
        "  for i, A_word in enumerate(Y_hat_A):\n",
        "    B_word = Y_hat_B[i]\n",
        "\n",
        "    if B_word[0][0] > 0:\n",
        "      B_string = \"L\"\n",
        "    elif B_word[0][0] < 0:\n",
        "      B_string = \"R\"\n",
        "    else:\n",
        "      raise Exception(\"Output value = 0!\")\n",
        "\n",
        "    if A_word[0][0] > 0:\n",
        "      A_string = \"L\"\n",
        "    elif A_word[0][0] < 0:\n",
        "      A_string = \"R\"\n",
        "    else:\n",
        "      raise Exception(\"Output value = 0!\")\n",
        "\n",
        "    results_dict[rep][0][\"A\"][i] = A_string\n",
        "    results_dict[rep][0][\"B\"][i] = B_string\n",
        "\n",
        "\n",
        "  #Have the models take turns being teachers:\n",
        "  for iter in range(iterations):\n",
        "    print(\"\\tIteration: \", iter, \", \", \"Repetition: \", rep)\n",
        "\n",
        "    print(\"\\t\\tModel A teaching Model B...\")\n",
        "    this_Y = model_A.predict([X, decoder_data_A])\n",
        "    model_B.fit(\n",
        "          [X, decoder_data_B],\n",
        "          this_Y,\n",
        "          batch_size=1,\n",
        "          epochs=eps,\n",
        "          validation_split=0.\n",
        "      )\n",
        "    Y_hat_B = model_B.predict([X, decoder_data_B])\n",
        "\n",
        "    print(\"\\t\\tModel B teaching Model A...\")\n",
        "    this_Y = model_B.predict([X, decoder_data_B])\n",
        "    model_A.fit(\n",
        "          [X, decoder_data_A],\n",
        "          this_Y,\n",
        "          batch_size=1,\n",
        "          epochs=eps,\n",
        "          validation_split=0.\n",
        "      )\n",
        "\n",
        "    #Save the useful info and delete everything else:\n",
        "    print(\"\\t\\tGetting predictions...\")\n",
        "    Y_hat_A = model_A.predict([X, decoder_data_A])\n",
        "\n",
        "    print(\"\\t\\tSaving predictions...\")\n",
        "    rep2learningCurve[rep][iter+1] = MSE(Y_hat_A, Y_hat_B)\n",
        "\n",
        "    #Filling up \"results dict\" with the outputs for each model at this point:\n",
        "    for i, A_word in enumerate(Y_hat_A):\n",
        "      B_word = Y_hat_B[i]\n",
        "\n",
        "      #Convert numerical outputs to L (left aligned) or R (right aligned):\n",
        "      #Model B:\n",
        "      if B_word[0][0] > 0:\n",
        "        B_string = \"L\"\n",
        "      elif B_word[0][0] < 0:\n",
        "        B_string = \"R\"\n",
        "      else:\n",
        "        raise Exception(\"Output value = 0!\")\n",
        "\n",
        "      #Model A:\n",
        "      if A_word[0][0] > 0:\n",
        "        A_string = \"L\"\n",
        "      elif A_word[0][0] < 0:\n",
        "        A_string = \"R\"\n",
        "      else:\n",
        "        raise Exception(\"Output value = 0!\")\n",
        "\n",
        "      results_dict[rep][iter+1][\"A\"][i] = A_string\n",
        "      results_dict[rep][iter+1][\"B\"][i] = B_string\n",
        "\n",
        "\n",
        "    clear_output()\n",
        "  backend.clear_session()\n",
        "  clear_output()"
      ]
    },
    {
      "cell_type": "markdown",
      "metadata": {
        "id": "2d7u75CXqfWO"
      },
      "source": [
        "##Plot training data results:"
      ]
    },
    {
      "cell_type": "code",
      "execution_count": 7,
      "metadata": {
        "id": "zcLx2mjcGhGj",
        "colab": {
          "base_uri": "https://localhost:8080/",
          "height": 455
        },
        "outputId": "15b4e9ae-f1d7-44eb-959c-063829c5399e"
      },
      "outputs": [
        {
          "output_type": "display_data",
          "data": {
            "text/plain": [
              "<Figure size 640x480 with 1 Axes>"
            ],
            "image/png": "[encoded data removed]"
          },
          "metadata": {}
        }
      ],
      "source": [
        "a_proportion_train = []\n",
        "b_proportion_train = []\n",
        "a_sd_train = []\n",
        "b_sd_train = []\n",
        "a_hist_train = {val:0 for val in range(50,101)}\n",
        "b_hist_train = {val:0 for val in range(50,101)}\n",
        "\n",
        "for i in range(iterations+1):\n",
        "  a_this_iter = []\n",
        "  b_this_iter = []\n",
        "  for rep in range(reps):\n",
        "    a_results_string = \",\".join(results_dict[rep][i][\"A\"])\n",
        "    b_results_string = \",\".join(results_dict[rep][i][\"B\"])\n",
        "\n",
        "    #Look at results from Model A, find prop. of maj. outputs:\n",
        "    a_Lnum = len(findall(\"L\", a_results_string))\n",
        "    a_Lprop = float(a_Lnum)/float(vocab_size)\n",
        "    if a_Lprop >= .5:\n",
        "      a_prop = a_Lprop\n",
        "    else:\n",
        "      a_prop = 1.0 - a_Lprop\n",
        "    a_this_iter.append(a_prop)\n",
        "\n",
        "    #Look at results from Model B, find prop. of maj. outputs:\n",
        "    b_Lnum = len(findall(\"L\", b_results_string))\n",
        "    b_Lprop = float(b_Lnum)/float(vocab_size)\n",
        "    if b_Lprop >= .5:\n",
        "      b_prop = b_Lprop\n",
        "    else:\n",
        "      b_prop = 1.0 - b_Lprop\n",
        "    b_this_iter.append(b_prop)\n",
        "\n",
        "    #Save histogram info at the last iteration:\n",
        "    if i == iterations:\n",
        "      if b_Lnum >= 50:\n",
        "        b_count = b_Lnum\n",
        "      else:\n",
        "        b_count = 100-b_Lnum\n",
        "\n",
        "      b_hist_train[b_count] += 1\n",
        "\n",
        "      if a_Lnum >= 50:\n",
        "        a_count = a_Lnum\n",
        "      else:\n",
        "        a_count = 100-a_Lnum\n",
        "      a_hist_train[a_count] += 1\n",
        "\n",
        "  a_proportion_train.append(np.mean(a_this_iter))\n",
        "  b_proportion_train.append(np.mean(b_this_iter))\n",
        "  a_sd_train.append(np.std(a_this_iter))\n",
        "  b_sd_train.append(np.std(b_this_iter))\n",
        "\n",
        "#Plot these results:\n",
        "plot(a_proportion_train, label=\"A\")\n",
        "plot(b_proportion_train, label=\"B\")\n",
        "legend()\n",
        "xlabel(\"Iteration\")\n",
        "ylabel(\"Prop. of words that map to the maj. output\")\n",
        "ylim(0.5,1.1)\n",
        "show()"
      ]
    },
    {
      "cell_type": "markdown",
      "metadata": {
        "id": "_WMi0GBcMX3_"
      },
      "source": [
        "##Save all results:"
      ]
    },
    {
      "cell_type": "code",
      "execution_count": 8,
      "metadata": {
        "id": "UNEGDw0lMXYX"
      },
      "outputs": [],
      "source": [
        "#Full output at each learning update:\n",
        "output_file = open(my_dir+\"/Full_Output_NN.csv\", \"w\")\n",
        "output_file.write(\"Iteration,Model,DataType,Proportion,SD\\n\")\n",
        "for ep, a_train_prop_float in enumerate(a_proportion_train):\n",
        "  this_a_train_prop = str(a_train_prop_float)\n",
        "  this_b_train_prop = str(b_proportion_train[ep])\n",
        "\n",
        "  this_a_train_sd = str(a_sd_train[ep])\n",
        "  this_b_train_sd = str(b_sd_train[ep])\n",
        "\n",
        "  output_file.write(\",\".join([str(ep), \"A\", \"Train\", this_a_train_prop, this_a_train_sd])+\"\\n\")\n",
        "  output_file.write(\",\".join([str(ep), \"B\", \"Train\", this_b_train_prop, this_b_train_sd])+\"\\n\")\n",
        "\n",
        "output_file.close()\n",
        "\n",
        "#Histogram info:\n",
        "hist_file = open(my_dir+\"/Histogram_Output_NN.csv\", \"w\")\n",
        "hist_file.write(\"Model,Value,DataType,Count\\n\")\n",
        "for val in range(50,101):\n",
        "  hist_file.write(\",\".join([\"A\",str(val),\"Train\",str(a_hist_train[val])])+\"\\n\")\n",
        "  hist_file.write(\",\".join([\"B\",str(val),\"Train\",str(b_hist_train[val])])+\"\\n\")\n",
        "hist_file.close()\n",
        "\n",
        "#Learning curves:\n",
        "lc_file = open(my_dir+\"/LearningCurve_Output_NN.csv\", \"w\")\n",
        "lc_file.write(\"Repetition,Iteration,MSE\\n\")\n",
        "for r in range(reps):\n",
        "  for i in range(iterations+1):\n",
        "    lc_file.write(\",\".join([str(r),str(i),str(rep2learningCurve[r][i])])+\"\\n\")\n",
        "lc_file.close()"
      ]
    }
  ],
  "metadata": {
    "accelerator": "GPU",
    "colab": {
      "gpuType": "T4",
      "provenance": []
    },
    "kernelspec": {
      "display_name": "Python 3",
      "name": "python3"
    }
  },
  "nbformat": 4,
  "nbformat_minor": 0
}